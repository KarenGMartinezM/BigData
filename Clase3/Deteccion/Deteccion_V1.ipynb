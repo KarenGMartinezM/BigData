{
 "cells": [
  {
   "cell_type": "code",
   "execution_count": null,
   "metadata": {
    "id": "95ypGXbDT0UO"
   },
   "outputs": [],
   "source": [
    "# Importar Librerias\n",
    "import cv2\n",
    "import os"
   ]
  },
  {
   "cell_type": "code",
   "execution_count": null,
   "metadata": {
    "colab": {
     "base_uri": "https://localhost:8080/",
     "height": 211
    },
    "id": "SgjuOhDXT72w",
    "outputId": "63df0177-2631-486b-acbf-2ee94ee6f5c3"
   },
   "outputs": [
    {
     "ename": "FileNotFoundError",
     "evalue": "[Errno 2] No such file or directory: '/content/images'",
     "output_type": "error",
     "traceback": [
      "\u001b[0;31m---------------------------------------------------------------------------\u001b[0m",
      "\u001b[0;31mFileNotFoundError\u001b[0m                         Traceback (most recent call last)",
      "\u001b[0;32m<ipython-input-3-428550d10f5e>\u001b[0m in \u001b[0;36m<cell line: 14>\u001b[0;34m()\u001b[0m\n\u001b[1;32m     12\u001b[0m \u001b[0;34m\u001b[0m\u001b[0m\n\u001b[1;32m     13\u001b[0m \u001b[0;31m# Iterar sobre las imágenes en la carpeta de entrada\u001b[0m\u001b[0;34m\u001b[0m\u001b[0;34m\u001b[0m\u001b[0m\n\u001b[0;32m---> 14\u001b[0;31m \u001b[0;32mfor\u001b[0m \u001b[0mimage_name\u001b[0m \u001b[0;32min\u001b[0m \u001b[0mos\u001b[0m\u001b[0;34m.\u001b[0m\u001b[0mlistdir\u001b[0m\u001b[0;34m(\u001b[0m\u001b[0minput_folder\u001b[0m\u001b[0;34m)\u001b[0m\u001b[0;34m:\u001b[0m\u001b[0;34m\u001b[0m\u001b[0;34m\u001b[0m\u001b[0m\n\u001b[0m\u001b[1;32m     15\u001b[0m     \u001b[0mimage_path\u001b[0m \u001b[0;34m=\u001b[0m \u001b[0mos\u001b[0m\u001b[0;34m.\u001b[0m\u001b[0mpath\u001b[0m\u001b[0;34m.\u001b[0m\u001b[0mjoin\u001b[0m\u001b[0;34m(\u001b[0m\u001b[0minput_folder\u001b[0m\u001b[0;34m,\u001b[0m \u001b[0mimage_name\u001b[0m\u001b[0;34m)\u001b[0m\u001b[0;34m\u001b[0m\u001b[0;34m\u001b[0m\u001b[0m\n\u001b[1;32m     16\u001b[0m \u001b[0;34m\u001b[0m\u001b[0m\n",
      "\u001b[0;31mFileNotFoundError\u001b[0m: [Errno 2] No such file or directory: '/content/images'"
     ]
    }
   ],
   "source": [
    "# Redimensionamiento de las imagenes\n",
    "\n",
    "# Carpeta de entrada y salida\n",
    "input_folder = \"/content/images\"\n",
    "output_folder = \"/content/images_redimensionadas/\"\n",
    "\n",
    "# Crear la carpeta de salida si no existe\n",
    "os.makedirs(output_folder, exist_ok=True)\n",
    "\n",
    "# Resolución deseada\n",
    "desired_width, desired_height = 128, 128\n",
    "\n",
    "# Iterar sobre las imágenes en la carpeta de entrada\n",
    "for image_name in os.listdir(input_folder):\n",
    "    image_path = os.path.join(input_folder, image_name)\n",
    "\n",
    "    # Leer la imagen\n",
    "    image = cv2.imread(image_path)\n",
    "    if image is None:\n",
    "        continue  # Saltar archivos no válidos\n",
    "\n",
    "    # Obtener dimensiones originales\n",
    "    original_height, original_width = image.shape[:2]\n",
    "\n",
    "    # Mantener la relación de aspecto\n",
    "    scale = min(desired_width / original_width, desired_height / original_height)\n",
    "    new_width = int(original_width * scale)\n",
    "    new_height = int(original_height * scale)\n",
    "\n",
    "    # Redimensionar la imagen\n",
    "    resized_image = cv2.resize(image, (new_width, new_height), interpolation=cv2.INTER_AREA)\n",
    "\n",
    "    # Agregar bordes para ajustar al tamaño deseado si es necesario\n",
    "    delta_w = desired_width - new_width\n",
    "    delta_h = desired_height - new_height\n",
    "    top, bottom = delta_h // 2, delta_h - (delta_h // 2)\n",
    "    left, right = delta_w // 2, delta_w - (delta_w // 2)\n",
    "    padded_image = cv2.copyMakeBorder(resized_image, top, bottom, left, right, cv2.BORDER_CONSTANT, value=[0, 0, 0])\n",
    "\n",
    "    # Guardar la imagen redimensionada\n",
    "    output_path = os.path.join(output_folder, image_name)\n",
    "    cv2.imwrite(output_path, padded_image)"
   ]
  },
  {
   "cell_type": "code",
   "execution_count": 7,
   "metadata": {
    "colab": {
     "base_uri": "https://localhost:8080/"
    },
    "id": "31CFlS_zUtMJ",
    "outputId": "12071300-1182-4dd5-bb56-74e3c7883b93"
   },
   "outputs": [
    {
     "name": "stdout",
     "output_type": "stream",
     "text": [
      "Cloning into 'GroundingDINO'...\n",
      "remote: Enumerating objects: 463, done.\u001b[K\n",
      "remote: Counting objects: 100% (240/240), done.\u001b[K\n",
      "remote: Compressing objects: 100% (105/105), done.\u001b[K\n",
      "remote: Total 463 (delta 175), reused 135 (delta 135), pack-reused 223 (from 1)\u001b[K\n",
      "Receiving objects: 100% (463/463), 12.87 MiB | 14.63 MiB/s, done.\n",
      "Resolving deltas: 100% (241/241), done.\n"
     ]
    }
   ],
   "source": [
    "!git clone https://github.com/IDEA-Research/GroundingDINO.git"
   ]
  },
  {
   "cell_type": "code",
   "execution_count": 8,
   "metadata": {
    "colab": {
     "base_uri": "https://localhost:8080/"
    },
    "id": "ZZHeSk_VUwGg",
    "outputId": "3253c1cb-66ae-488b-e49e-a4143864c4b5"
   },
   "outputs": [
    {
     "name": "stdout",
     "output_type": "stream",
     "text": [
      "/content/GroundingDINO\n"
     ]
    }
   ],
   "source": [
    "%cd GroundingDINO/"
   ]
  },
  {
   "cell_type": "code",
   "execution_count": 9,
   "metadata": {
    "colab": {
     "base_uri": "https://localhost:8080/"
    },
    "id": "sOm6W1imVEfJ",
    "outputId": "3b6c7db9-ba07-4ee2-ed18-717fa94ed4d8"
   },
   "outputs": [
    {
     "name": "stdout",
     "output_type": "stream",
     "text": [
      "  Preparing metadata (setup.py) ... \u001b[?25l\u001b[?25hdone\n",
      "\u001b[2K     \u001b[90m━━━━━━━━━━━━━━━━━━━━━━━━━━━━━━━━━━━━━━━━\u001b[0m \u001b[32m46.8/46.8 kB\u001b[0m \u001b[31m3.5 MB/s\u001b[0m eta \u001b[36m0:00:00\u001b[0m\n",
      "\u001b[2K   \u001b[90m━━━━━━━━━━━━━━━━━━━━━━━━━━━━━━━━━━━━━━━━\u001b[0m \u001b[32m181.5/181.5 kB\u001b[0m \u001b[31m14.5 MB/s\u001b[0m eta \u001b[36m0:00:00\u001b[0m\n",
      "\u001b[2K   \u001b[90m━━━━━━━━━━━━━━━━━━━━━━━━━━━━━━━━━━━━━━━━\u001b[0m \u001b[32m256.2/256.2 kB\u001b[0m \u001b[31m20.4 MB/s\u001b[0m eta \u001b[36m0:00:00\u001b[0m\n",
      "\u001b[?25h"
     ]
    }
   ],
   "source": [
    "!pip install -q -e ."
   ]
  },
  {
   "cell_type": "code",
   "execution_count": 10,
   "metadata": {
    "colab": {
     "base_uri": "https://localhost:8080/"
    },
    "id": "djV92nmjWKZw",
    "outputId": "acedbf8e-95a4-43ee-d161-c48de4f8daa3"
   },
   "outputs": [
    {
     "name": "stdout",
     "output_type": "stream",
     "text": [
      "Requirement already satisfied: supervision in /usr/local/lib/python3.10/dist-packages (0.25.0)\n",
      "Requirement already satisfied: contourpy>=1.0.7 in /usr/local/lib/python3.10/dist-packages (from supervision) (1.3.1)\n",
      "Requirement already satisfied: defusedxml<0.8.0,>=0.7.1 in /usr/local/lib/python3.10/dist-packages (from supervision) (0.7.1)\n",
      "Requirement already satisfied: matplotlib>=3.6.0 in /usr/local/lib/python3.10/dist-packages (from supervision) (3.8.0)\n",
      "Requirement already satisfied: numpy>=1.23.3 in /usr/local/lib/python3.10/dist-packages (from supervision) (1.26.4)\n",
      "Requirement already satisfied: opencv-python>=4.5.5.64 in /usr/local/lib/python3.10/dist-packages (from supervision) (4.10.0.84)\n",
      "Requirement already satisfied: pillow>=9.4 in /usr/local/lib/python3.10/dist-packages (from supervision) (11.0.0)\n",
      "Requirement already satisfied: pyyaml>=5.3 in /usr/local/lib/python3.10/dist-packages (from supervision) (6.0.2)\n",
      "Requirement already satisfied: scipy<2.0.0,>=1.10.0 in /usr/local/lib/python3.10/dist-packages (from supervision) (1.13.1)\n",
      "Requirement already satisfied: cycler>=0.10 in /usr/local/lib/python3.10/dist-packages (from matplotlib>=3.6.0->supervision) (0.12.1)\n",
      "Requirement already satisfied: fonttools>=4.22.0 in /usr/local/lib/python3.10/dist-packages (from matplotlib>=3.6.0->supervision) (4.55.0)\n",
      "Requirement already satisfied: kiwisolver>=1.0.1 in /usr/local/lib/python3.10/dist-packages (from matplotlib>=3.6.0->supervision) (1.4.7)\n",
      "Requirement already satisfied: packaging>=20.0 in /usr/local/lib/python3.10/dist-packages (from matplotlib>=3.6.0->supervision) (24.2)\n",
      "Requirement already satisfied: pyparsing>=2.3.1 in /usr/local/lib/python3.10/dist-packages (from matplotlib>=3.6.0->supervision) (3.2.0)\n",
      "Requirement already satisfied: python-dateutil>=2.7 in /usr/local/lib/python3.10/dist-packages (from matplotlib>=3.6.0->supervision) (2.8.2)\n",
      "Requirement already satisfied: six>=1.5 in /usr/local/lib/python3.10/dist-packages (from python-dateutil>=2.7->matplotlib>=3.6.0->supervision) (1.16.0)\n"
     ]
    }
   ],
   "source": [
    "!pip install supervision"
   ]
  },
  {
   "cell_type": "code",
   "execution_count": 11,
   "metadata": {
    "colab": {
     "base_uri": "https://localhost:8080/"
    },
    "id": "DT579404XIT6",
    "outputId": "c5f629d4-29e5-4929-a958-fb8684a7e93b"
   },
   "outputs": [
    {
     "name": "stdout",
     "output_type": "stream",
     "text": [
      "/content\n"
     ]
    }
   ],
   "source": [
    "%cd ..\n",
    "!mkdir weights\n",
    "!wget -q https://github.com/IDEA-Research/GroundingDINO/releases/download/v0.1.0-alpha/groundingdino_swint_ogc.pth -P weights"
   ]
  },
  {
   "cell_type": "code",
   "execution_count": 12,
   "metadata": {
    "colab": {
     "base_uri": "https://localhost:8080/"
    },
    "id": "mptyWl45XbHO",
    "outputId": "374cd50f-daa9-404c-db40-da0052e1ddb5"
   },
   "outputs": [
    {
     "name": "stdout",
     "output_type": "stream",
     "text": [
      "/content\n"
     ]
    }
   ],
   "source": [
    "!pwd"
   ]
  },
  {
   "cell_type": "code",
   "execution_count": 13,
   "metadata": {
    "colab": {
     "base_uri": "https://localhost:8080/"
    },
    "id": "EaRPcuJOXexa",
    "outputId": "3bc5008d-fea5-419a-9093-27f9c0594677"
   },
   "outputs": [
    {
     "name": "stdout",
     "output_type": "stream",
     "text": [
      "GroundingDINO  images_redimensionadas  sample_data  weights\n"
     ]
    }
   ],
   "source": [
    "!dir"
   ]
  },
  {
   "cell_type": "code",
   "execution_count": 14,
   "metadata": {
    "colab": {
     "base_uri": "https://localhost:8080/"
    },
    "id": "LsTq18S5ZLnR",
    "outputId": "132bca27-f7e6-4b8c-afb5-f362e0600207"
   },
   "outputs": [
    {
     "name": "stdout",
     "output_type": "stream",
     "text": [
      "Collecting git+https://github.com/IDEA-Research/GroundingDINO.git\n",
      "  Cloning https://github.com/IDEA-Research/GroundingDINO.git to /tmp/pip-req-build-g9x50zt_\n",
      "  Running command git clone --filter=blob:none --quiet https://github.com/IDEA-Research/GroundingDINO.git /tmp/pip-req-build-g9x50zt_\n",
      "  Resolved https://github.com/IDEA-Research/GroundingDINO.git to commit 856dde20aee659246248e20734ef9ba5214f5e44\n",
      "  Preparing metadata (setup.py) ... \u001b[?25l\u001b[?25hdone\n",
      "Requirement already satisfied: torch in /usr/local/lib/python3.10/dist-packages (from groundingdino==0.1.0) (2.5.1+cu121)\n",
      "Requirement already satisfied: torchvision in /usr/local/lib/python3.10/dist-packages (from groundingdino==0.1.0) (0.20.1+cu121)\n",
      "Requirement already satisfied: transformers in /usr/local/lib/python3.10/dist-packages (from groundingdino==0.1.0) (4.46.2)\n",
      "Requirement already satisfied: addict in /usr/local/lib/python3.10/dist-packages (from groundingdino==0.1.0) (2.4.0)\n",
      "Requirement already satisfied: yapf in /usr/local/lib/python3.10/dist-packages (from groundingdino==0.1.0) (0.43.0)\n",
      "Requirement already satisfied: timm in /usr/local/lib/python3.10/dist-packages (from groundingdino==0.1.0) (1.0.11)\n",
      "Requirement already satisfied: numpy in /usr/local/lib/python3.10/dist-packages (from groundingdino==0.1.0) (1.26.4)\n",
      "Requirement already satisfied: opencv-python in /usr/local/lib/python3.10/dist-packages (from groundingdino==0.1.0) (4.10.0.84)\n",
      "Requirement already satisfied: supervision>=0.22.0 in /usr/local/lib/python3.10/dist-packages (from groundingdino==0.1.0) (0.25.0)\n",
      "Requirement already satisfied: pycocotools in /usr/local/lib/python3.10/dist-packages (from groundingdino==0.1.0) (2.0.8)\n",
      "Requirement already satisfied: contourpy>=1.0.7 in /usr/local/lib/python3.10/dist-packages (from supervision>=0.22.0->groundingdino==0.1.0) (1.3.1)\n",
      "Requirement already satisfied: defusedxml<0.8.0,>=0.7.1 in /usr/local/lib/python3.10/dist-packages (from supervision>=0.22.0->groundingdino==0.1.0) (0.7.1)\n",
      "Requirement already satisfied: matplotlib>=3.6.0 in /usr/local/lib/python3.10/dist-packages (from supervision>=0.22.0->groundingdino==0.1.0) (3.8.0)\n",
      "Requirement already satisfied: pillow>=9.4 in /usr/local/lib/python3.10/dist-packages (from supervision>=0.22.0->groundingdino==0.1.0) (11.0.0)\n",
      "Requirement already satisfied: pyyaml>=5.3 in /usr/local/lib/python3.10/dist-packages (from supervision>=0.22.0->groundingdino==0.1.0) (6.0.2)\n",
      "Requirement already satisfied: scipy<2.0.0,>=1.10.0 in /usr/local/lib/python3.10/dist-packages (from supervision>=0.22.0->groundingdino==0.1.0) (1.13.1)\n",
      "Requirement already satisfied: huggingface_hub in /usr/local/lib/python3.10/dist-packages (from timm->groundingdino==0.1.0) (0.26.2)\n",
      "Requirement already satisfied: safetensors in /usr/local/lib/python3.10/dist-packages (from timm->groundingdino==0.1.0) (0.4.5)\n",
      "Requirement already satisfied: filelock in /usr/local/lib/python3.10/dist-packages (from torch->groundingdino==0.1.0) (3.16.1)\n",
      "Requirement already satisfied: typing-extensions>=4.8.0 in /usr/local/lib/python3.10/dist-packages (from torch->groundingdino==0.1.0) (4.12.2)\n",
      "Requirement already satisfied: networkx in /usr/local/lib/python3.10/dist-packages (from torch->groundingdino==0.1.0) (3.4.2)\n",
      "Requirement already satisfied: jinja2 in /usr/local/lib/python3.10/dist-packages (from torch->groundingdino==0.1.0) (3.1.4)\n",
      "Requirement already satisfied: fsspec in /usr/local/lib/python3.10/dist-packages (from torch->groundingdino==0.1.0) (2024.10.0)\n",
      "Requirement already satisfied: sympy==1.13.1 in /usr/local/lib/python3.10/dist-packages (from torch->groundingdino==0.1.0) (1.13.1)\n",
      "Requirement already satisfied: mpmath<1.4,>=1.1.0 in /usr/local/lib/python3.10/dist-packages (from sympy==1.13.1->torch->groundingdino==0.1.0) (1.3.0)\n",
      "Requirement already satisfied: packaging>=20.0 in /usr/local/lib/python3.10/dist-packages (from transformers->groundingdino==0.1.0) (24.2)\n",
      "Requirement already satisfied: regex!=2019.12.17 in /usr/local/lib/python3.10/dist-packages (from transformers->groundingdino==0.1.0) (2024.9.11)\n",
      "Requirement already satisfied: requests in /usr/local/lib/python3.10/dist-packages (from transformers->groundingdino==0.1.0) (2.32.3)\n",
      "Requirement already satisfied: tokenizers<0.21,>=0.20 in /usr/local/lib/python3.10/dist-packages (from transformers->groundingdino==0.1.0) (0.20.3)\n",
      "Requirement already satisfied: tqdm>=4.27 in /usr/local/lib/python3.10/dist-packages (from transformers->groundingdino==0.1.0) (4.66.6)\n",
      "Requirement already satisfied: platformdirs>=3.5.1 in /usr/local/lib/python3.10/dist-packages (from yapf->groundingdino==0.1.0) (4.3.6)\n",
      "Requirement already satisfied: tomli>=2.0.1 in /usr/local/lib/python3.10/dist-packages (from yapf->groundingdino==0.1.0) (2.1.0)\n",
      "Requirement already satisfied: cycler>=0.10 in /usr/local/lib/python3.10/dist-packages (from matplotlib>=3.6.0->supervision>=0.22.0->groundingdino==0.1.0) (0.12.1)\n",
      "Requirement already satisfied: fonttools>=4.22.0 in /usr/local/lib/python3.10/dist-packages (from matplotlib>=3.6.0->supervision>=0.22.0->groundingdino==0.1.0) (4.55.0)\n",
      "Requirement already satisfied: kiwisolver>=1.0.1 in /usr/local/lib/python3.10/dist-packages (from matplotlib>=3.6.0->supervision>=0.22.0->groundingdino==0.1.0) (1.4.7)\n",
      "Requirement already satisfied: pyparsing>=2.3.1 in /usr/local/lib/python3.10/dist-packages (from matplotlib>=3.6.0->supervision>=0.22.0->groundingdino==0.1.0) (3.2.0)\n",
      "Requirement already satisfied: python-dateutil>=2.7 in /usr/local/lib/python3.10/dist-packages (from matplotlib>=3.6.0->supervision>=0.22.0->groundingdino==0.1.0) (2.8.2)\n",
      "Requirement already satisfied: MarkupSafe>=2.0 in /usr/local/lib/python3.10/dist-packages (from jinja2->torch->groundingdino==0.1.0) (3.0.2)\n",
      "Requirement already satisfied: charset-normalizer<4,>=2 in /usr/local/lib/python3.10/dist-packages (from requests->transformers->groundingdino==0.1.0) (3.4.0)\n",
      "Requirement already satisfied: idna<4,>=2.5 in /usr/local/lib/python3.10/dist-packages (from requests->transformers->groundingdino==0.1.0) (3.10)\n",
      "Requirement already satisfied: urllib3<3,>=1.21.1 in /usr/local/lib/python3.10/dist-packages (from requests->transformers->groundingdino==0.1.0) (2.2.3)\n",
      "Requirement already satisfied: certifi>=2017.4.17 in /usr/local/lib/python3.10/dist-packages (from requests->transformers->groundingdino==0.1.0) (2024.8.30)\n",
      "Requirement already satisfied: six>=1.5 in /usr/local/lib/python3.10/dist-packages (from python-dateutil>=2.7->matplotlib>=3.6.0->supervision>=0.22.0->groundingdino==0.1.0) (1.16.0)\n",
      "Building wheels for collected packages: groundingdino\n",
      "  Building wheel for groundingdino (setup.py) ... \u001b[?25l\u001b[?25hdone\n",
      "  Created wheel for groundingdino: filename=groundingdino-0.1.0-cp310-cp310-linux_x86_64.whl size=3045830 sha256=2ab79feda23b5252ad37ec7bcdb84fae9db50fa59c7c6a70033cdc62d134d956\n",
      "  Stored in directory: /tmp/pip-ephem-wheel-cache-zbikk9sz/wheels/6b/06/d7/b57f601a4df56af41d262a5b1b496359b13c323bf5ef0434b2\n",
      "Successfully built groundingdino\n",
      "Installing collected packages: groundingdino\n",
      "  Attempting uninstall: groundingdino\n",
      "    Found existing installation: groundingdino 0.1.0\n",
      "    Uninstalling groundingdino-0.1.0:\n",
      "      Successfully uninstalled groundingdino-0.1.0\n",
      "Successfully installed groundingdino-0.1.0\n",
      "/content/GroundingDINO\n"
     ]
    }
   ],
   "source": [
    "!pip install git+https://github.com/IDEA-Research/GroundingDINO.git\n",
    "\n",
    "# Import the os module\n",
    "import os\n",
    "\n",
    "# Change the current working directory to the directory containing the 'groundingdino' package\n",
    "# Assuming the 'groundingdino' package is in the parent directory of the current script\n",
    "os.chdir('/content/GroundingDINO/')\n",
    "\n",
    "# Verify if the directory change was successful\n",
    "print(os.getcwd())"
   ]
  },
  {
   "cell_type": "code",
   "execution_count": 16,
   "metadata": {
    "colab": {
     "base_uri": "https://localhost:8080/"
    },
    "id": "Of5GZbw-k-7h",
    "outputId": "581c0959-8c26-45fc-e32e-f90e043435f7"
   },
   "outputs": [
    {
     "name": "stdout",
     "output_type": "stream",
     "text": [
      "Requirement already satisfied: kaggle in /usr/local/lib/python3.10/dist-packages (1.6.17)\n",
      "Requirement already satisfied: six>=1.10 in /usr/local/lib/python3.10/dist-packages (from kaggle) (1.16.0)\n",
      "Requirement already satisfied: certifi>=2023.7.22 in /usr/local/lib/python3.10/dist-packages (from kaggle) (2024.8.30)\n",
      "Requirement already satisfied: python-dateutil in /usr/local/lib/python3.10/dist-packages (from kaggle) (2.8.2)\n",
      "Requirement already satisfied: requests in /usr/local/lib/python3.10/dist-packages (from kaggle) (2.32.3)\n",
      "Requirement already satisfied: tqdm in /usr/local/lib/python3.10/dist-packages (from kaggle) (4.66.6)\n",
      "Requirement already satisfied: python-slugify in /usr/local/lib/python3.10/dist-packages (from kaggle) (8.0.4)\n",
      "Requirement already satisfied: urllib3 in /usr/local/lib/python3.10/dist-packages (from kaggle) (2.2.3)\n",
      "Requirement already satisfied: bleach in /usr/local/lib/python3.10/dist-packages (from kaggle) (6.2.0)\n",
      "Requirement already satisfied: webencodings in /usr/local/lib/python3.10/dist-packages (from bleach->kaggle) (0.5.1)\n",
      "Requirement already satisfied: text-unidecode>=1.3 in /usr/local/lib/python3.10/dist-packages (from python-slugify->kaggle) (1.3)\n",
      "Requirement already satisfied: charset-normalizer<4,>=2 in /usr/local/lib/python3.10/dist-packages (from requests->kaggle) (3.4.0)\n",
      "Requirement already satisfied: idna<4,>=2.5 in /usr/local/lib/python3.10/dist-packages (from requests->kaggle) (3.10)\n",
      "cp: cannot stat '/kaggle.json': No such file or directory\n",
      "chmod: cannot access '/root/.kaggle/kaggle.json': No such file or directory\n"
     ]
    }
   ],
   "source": [
    "!pip install kaggle\n",
    "!mkdir -p ~/.kaggle\n",
    "!cp /kaggle.json ~/.kaggle/\n",
    "!chmod 600 ~/.kaggle/kaggle.json\n"
   ]
  },
  {
   "cell_type": "code",
   "execution_count": 17,
   "metadata": {
    "colab": {
     "base_uri": "https://localhost:8080/"
    },
    "id": "76fGuohQlNam",
    "outputId": "2a5c96b6-1b3f-4349-f4d8-b43b23ccd58a"
   },
   "outputs": [
    {
     "name": "stdout",
     "output_type": "stream",
     "text": [
      "Dataset URL: https://www.kaggle.com/datasets/andresperpinanreyes/perros-y-gatos-100-imagenes-entrenamiento\n",
      "License(s): ODbL-1.0\n",
      "Downloading perros-y-gatos-100-imagenes-entrenamiento.zip to content/images\n",
      " 61% 5.00M/8.14M [00:01<00:00, 4.57MB/s]\n",
      "100% 8.14M/8.14M [00:01<00:00, 5.53MB/s]\n"
     ]
    }
   ],
   "source": [
    "!kaggle datasets download -d andresperpinanreyes/perros-y-gatos-100-imagenes-entrenamiento -p content/images\n"
   ]
  },
  {
   "cell_type": "code",
   "execution_count": 18,
   "metadata": {
    "colab": {
     "base_uri": "https://localhost:8080/"
    },
    "id": "Z8Uz_4aQlTva",
    "outputId": "70410d0a-5c7a-4d7f-c90d-af300f508326"
   },
   "outputs": [
    {
     "name": "stdout",
     "output_type": "stream",
     "text": [
      "Archive:  content/images/perros-y-gatos-100-imagenes-entrenamiento.zip\n",
      "  inflating: content/images/gatos/gato (1).jpg  \n",
      "  inflating: content/images/gatos/gato (10).jpg  \n",
      "  inflating: content/images/gatos/gato (11).jpg  \n",
      "  inflating: content/images/gatos/gato (12).jpg  \n",
      "  inflating: content/images/gatos/gato (13).jpg  \n",
      "  inflating: content/images/gatos/gato (14).jpg  \n",
      "  inflating: content/images/gatos/gato (15).jpg  \n",
      "  inflating: content/images/gatos/gato (16).jpg  \n",
      "  inflating: content/images/gatos/gato (17).jpg  \n",
      "  inflating: content/images/gatos/gato (18).jpg  \n",
      "  inflating: content/images/gatos/gato (19).jpg  \n",
      "  inflating: content/images/gatos/gato (2).jpg  \n",
      "  inflating: content/images/gatos/gato (20).jpg  \n",
      "  inflating: content/images/gatos/gato (21).jpg  \n",
      "  inflating: content/images/gatos/gato (22).jpg  \n",
      "  inflating: content/images/gatos/gato (23).jpg  \n",
      "  inflating: content/images/gatos/gato (24).jpg  \n",
      "  inflating: content/images/gatos/gato (25).jpg  \n",
      "  inflating: content/images/gatos/gato (26).jpg  \n",
      "  inflating: content/images/gatos/gato (27).jpg  \n",
      "  inflating: content/images/gatos/gato (28).jpg  \n",
      "  inflating: content/images/gatos/gato (29).jpg  \n",
      "  inflating: content/images/gatos/gato (3).jpg  \n",
      "  inflating: content/images/gatos/gato (30).jpg  \n",
      "  inflating: content/images/gatos/gato (31).jpg  \n",
      "  inflating: content/images/gatos/gato (32).jpg  \n",
      "  inflating: content/images/gatos/gato (33).jpg  \n",
      "  inflating: content/images/gatos/gato (34).jpg  \n",
      "  inflating: content/images/gatos/gato (35).jpg  \n",
      "  inflating: content/images/gatos/gato (36).jpg  \n",
      "  inflating: content/images/gatos/gato (37).jpg  \n",
      "  inflating: content/images/gatos/gato (38).jpg  \n",
      "  inflating: content/images/gatos/gato (39).jpg  \n",
      "  inflating: content/images/gatos/gato (4).jpg  \n",
      "  inflating: content/images/gatos/gato (5).jpg  \n",
      "  inflating: content/images/gatos/gato (6).jpg  \n",
      "  inflating: content/images/gatos/gato (7).jpg  \n",
      "  inflating: content/images/gatos/gato (8).jpg  \n",
      "  inflating: content/images/gatos/gato (9).jpg  \n",
      "  inflating: content/images/perros/perro (1).jpg  \n",
      "  inflating: content/images/perros/perro (10).jpg  \n",
      "  inflating: content/images/perros/perro (11).jpg  \n",
      "  inflating: content/images/perros/perro (12).jpg  \n",
      "  inflating: content/images/perros/perro (13).jpg  \n",
      "  inflating: content/images/perros/perro (14).jpg  \n",
      "  inflating: content/images/perros/perro (15).jpg  \n",
      "  inflating: content/images/perros/perro (16).jpg  \n",
      "  inflating: content/images/perros/perro (17).jpg  \n",
      "  inflating: content/images/perros/perro (18).jpg  \n",
      "  inflating: content/images/perros/perro (19).jpg  \n",
      "  inflating: content/images/perros/perro (2).jpg  \n",
      "  inflating: content/images/perros/perro (20).jpg  \n",
      "  inflating: content/images/perros/perro (21).jpg  \n",
      "  inflating: content/images/perros/perro (22).jpg  \n",
      "  inflating: content/images/perros/perro (23).jpg  \n",
      "  inflating: content/images/perros/perro (24).jpg  \n",
      "  inflating: content/images/perros/perro (25).jpg  \n",
      "  inflating: content/images/perros/perro (26).jpg  \n",
      "  inflating: content/images/perros/perro (27).jpg  \n",
      "  inflating: content/images/perros/perro (28).jpg  \n",
      "  inflating: content/images/perros/perro (29).jpg  \n",
      "  inflating: content/images/perros/perro (3).jpg  \n",
      "  inflating: content/images/perros/perro (30).jpg  \n",
      "  inflating: content/images/perros/perro (31).jpg  \n",
      "  inflating: content/images/perros/perro (32).jpg  \n",
      "  inflating: content/images/perros/perro (33).jpg  \n",
      "  inflating: content/images/perros/perro (34).jpg  \n",
      "  inflating: content/images/perros/perro (35).jpg  \n",
      "  inflating: content/images/perros/perro (36).jpg  \n",
      "  inflating: content/images/perros/perro (37).jpg  \n",
      "  inflating: content/images/perros/perro (38).jpg  \n",
      "  inflating: content/images/perros/perro (39).jpg  \n",
      "  inflating: content/images/perros/perro (4).jpg  \n",
      "  inflating: content/images/perros/perro (40).jpg  \n",
      "  inflating: content/images/perros/perro (41).jpg  \n",
      "  inflating: content/images/perros/perro (42).jpg  \n",
      "  inflating: content/images/perros/perro (43).jpg  \n",
      "  inflating: content/images/perros/perro (44).jpg  \n",
      "  inflating: content/images/perros/perro (45).jpg  \n",
      "  inflating: content/images/perros/perro (46).jpg  \n",
      "  inflating: content/images/perros/perro (47).jpg  \n",
      "  inflating: content/images/perros/perro (48).jpg  \n",
      "  inflating: content/images/perros/perro (49).jpg  \n",
      "  inflating: content/images/perros/perro (5).jpg  \n",
      "  inflating: content/images/perros/perro (50).jpg  \n",
      "  inflating: content/images/perros/perro (51).jpg  \n",
      "  inflating: content/images/perros/perro (52).jpg  \n",
      "  inflating: content/images/perros/perro (53).jpg  \n",
      "  inflating: content/images/perros/perro (54).jpg  \n",
      "  inflating: content/images/perros/perro (55).jpg  \n",
      "  inflating: content/images/perros/perro (56).jpg  \n",
      "  inflating: content/images/perros/perro (57).jpg  \n",
      "  inflating: content/images/perros/perro (58).jpg  \n",
      "  inflating: content/images/perros/perro (59).jpg  \n",
      "  inflating: content/images/perros/perro (6).jpg  \n",
      "  inflating: content/images/perros/perro (60).jpg  \n",
      "  inflating: content/images/perros/perro (61).jpg  \n",
      "  inflating: content/images/perros/perro (7).jpg  \n",
      "  inflating: content/images/perros/perro (8).jpg  \n",
      "  inflating: content/images/perros/perro (9).jpg  \n"
     ]
    }
   ],
   "source": [
    "!unzip content/images/perros-y-gatos-100-imagenes-entrenamiento.zip -d content/images/\n"
   ]
  },
  {
   "cell_type": "code",
   "execution_count": 19,
   "metadata": {
    "colab": {
     "base_uri": "https://localhost:8080/"
    },
    "id": "hzGLg26_lciK",
    "outputId": "0599fd2f-614f-4eaa-93f5-58e371ae6a7f"
   },
   "outputs": [
    {
     "name": "stdout",
     "output_type": "stream",
     "text": [
      "'perro (10).jpg'  'perro (22).jpg'  'perro (34).jpg'  'perro (46).jpg'\t'perro (58).jpg'\n",
      "'perro (11).jpg'  'perro (23).jpg'  'perro (35).jpg'  'perro (47).jpg'\t'perro (59).jpg'\n",
      "'perro (12).jpg'  'perro (24).jpg'  'perro (36).jpg'  'perro (48).jpg'\t'perro (5).jpg'\n",
      "'perro (13).jpg'  'perro (25).jpg'  'perro (37).jpg'  'perro (49).jpg'\t'perro (60).jpg'\n",
      "'perro (14).jpg'  'perro (26).jpg'  'perro (38).jpg'  'perro (4).jpg'\t'perro (61).jpg'\n",
      "'perro (15).jpg'  'perro (27).jpg'  'perro (39).jpg'  'perro (50).jpg'\t'perro (6).jpg'\n",
      "'perro (16).jpg'  'perro (28).jpg'  'perro (3).jpg'   'perro (51).jpg'\t'perro (7).jpg'\n",
      "'perro (17).jpg'  'perro (29).jpg'  'perro (40).jpg'  'perro (52).jpg'\t'perro (8).jpg'\n",
      "'perro (18).jpg'  'perro (2).jpg'   'perro (41).jpg'  'perro (53).jpg'\t'perro (9).jpg'\n",
      "'perro (19).jpg'  'perro (30).jpg'  'perro (42).jpg'  'perro (54).jpg'\n",
      "'perro (1).jpg'   'perro (31).jpg'  'perro (43).jpg'  'perro (55).jpg'\n",
      "'perro (20).jpg'  'perro (32).jpg'  'perro (44).jpg'  'perro (56).jpg'\n",
      "'perro (21).jpg'  'perro (33).jpg'  'perro (45).jpg'  'perro (57).jpg'\n"
     ]
    }
   ],
   "source": [
    "!ls content/images/perros/\n"
   ]
  },
  {
   "cell_type": "code",
   "execution_count": 22,
   "metadata": {
    "colab": {
     "base_uri": "https://localhost:8080/"
    },
    "id": "Z777K2cWqxCQ",
    "outputId": "a8b937f4-678b-48dd-8a52-2ee2cc94ef61"
   },
   "outputs": [
    {
     "name": "stdout",
     "output_type": "stream",
     "text": [
      "Imagen válida: content/images/perros/perro (40).jpg\n",
      "Imagen válida: content/images/perros/perro (18).jpg\n",
      "Imagen válida: content/images/perros/perro (4).jpg\n",
      "Imagen válida: content/images/perros/perro (35).jpg\n",
      "Imagen válida: content/images/perros/perro (3).jpg\n",
      "Imagen válida: content/images/perros/perro (48).jpg\n",
      "Imagen válida: content/images/perros/perro (49).jpg\n",
      "Imagen válida: content/images/perros/perro (41).jpg\n",
      "Imagen válida: content/images/perros/perro (53).jpg\n",
      "Imagen válida: content/images/perros/perro (19).jpg\n",
      "Imagen válida: content/images/perros/perro (15).jpg\n",
      "Imagen válida: content/images/perros/perro (60).jpg\n",
      "Imagen válida: content/images/perros/perro (9).jpg\n",
      "Imagen válida: content/images/perros/perro (10).jpg\n",
      "Imagen válida: content/images/perros/perro (7).jpg\n",
      "Imagen válida: content/images/perros/perro (11).jpg\n",
      "Imagen válida: content/images/perros/perro (61).jpg\n",
      "Imagen válida: content/images/perros/perro (5).jpg\n",
      "Imagen válida: content/images/perros/perro (31).jpg\n",
      "Imagen válida: content/images/perros/perro (26).jpg\n",
      "Imagen válida: content/images/perros/perro (59).jpg\n",
      "Imagen válida: content/images/perros/perro (54).jpg\n",
      "Imagen válida: content/images/perros/perro (43).jpg\n",
      "Imagen válida: content/images/perros/perro (52).jpg\n",
      "Imagen válida: content/images/perros/perro (36).jpg\n",
      "Imagen válida: content/images/perros/perro (56).jpg\n",
      "Imagen válida: content/images/perros/perro (20).jpg\n",
      "Imagen válida: content/images/perros/perro (8).jpg\n",
      "Imagen válida: content/images/perros/perro (21).jpg\n",
      "Imagen válida: content/images/perros/perro (55).jpg\n",
      "Imagen válida: content/images/perros/perro (1).jpg\n",
      "Imagen válida: content/images/perros/perro (51).jpg\n",
      "Imagen válida: content/images/perros/perro (29).jpg\n",
      "Imagen válida: content/images/perros/perro (14).jpg\n",
      "Imagen válida: content/images/perros/perro (46).jpg\n",
      "Imagen válida: content/images/perros/perro (47).jpg\n",
      "Imagen válida: content/images/perros/perro (44).jpg\n",
      "Imagen válida: content/images/perros/perro (45).jpg\n",
      "Imagen válida: content/images/perros/perro (33).jpg\n",
      "Imagen válida: content/images/perros/perro (6).jpg\n",
      "Imagen válida: content/images/perros/perro (16).jpg\n",
      "Imagen válida: content/images/perros/perro (22).jpg\n",
      "Imagen válida: content/images/perros/perro (38).jpg\n",
      "Imagen válida: content/images/perros/perro (17).jpg\n",
      "Imagen válida: content/images/perros/perro (12).jpg\n",
      "Imagen válida: content/images/perros/perro (24).jpg\n",
      "Imagen válida: content/images/perros/perro (25).jpg\n",
      "Imagen válida: content/images/perros/perro (32).jpg\n",
      "Imagen válida: content/images/perros/perro (58).jpg\n",
      "Imagen válida: content/images/perros/perro (37).jpg\n",
      "Imagen válida: content/images/perros/perro (57).jpg\n",
      "Imagen válida: content/images/perros/perro (42).jpg\n",
      "Imagen válida: content/images/perros/perro (28).jpg\n",
      "Imagen válida: content/images/perros/perro (2).jpg\n",
      "Imagen válida: content/images/perros/perro (27).jpg\n",
      "Imagen válida: content/images/perros/perro (39).jpg\n",
      "Imagen válida: content/images/perros/perro (13).jpg\n",
      "Imagen válida: content/images/perros/perro (30).jpg\n",
      "Imagen válida: content/images/perros/perro (34).jpg\n",
      "Imagen válida: content/images/perros/perro (23).jpg\n",
      "Imagen válida: content/images/perros/perro (50).jpg\n",
      "Imagen válida: content/images/gatos/gato (15).jpg\n",
      "Imagen válida: content/images/gatos/gato (16).jpg\n",
      "Imagen válida: content/images/gatos/gato (29).jpg\n",
      "Imagen válida: content/images/gatos/gato (33).jpg\n",
      "Imagen válida: content/images/gatos/gato (23).jpg\n",
      "Imagen válida: content/images/gatos/gato (26).jpg\n",
      "Imagen válida: content/images/gatos/gato (4).jpg\n",
      "Imagen válida: content/images/gatos/gato (7).jpg\n",
      "Imagen válida: content/images/gatos/gato (18).jpg\n",
      "Imagen válida: content/images/gatos/gato (8).jpg\n",
      "Imagen válida: content/images/gatos/gato (27).jpg\n",
      "Imagen válida: content/images/gatos/gato (2).jpg\n",
      "Imagen válida: content/images/gatos/gato (34).jpg\n",
      "Imagen válida: content/images/gatos/gato (22).jpg\n",
      "Imagen válida: content/images/gatos/gato (37).jpg\n",
      "Imagen válida: content/images/gatos/gato (31).jpg\n",
      "Imagen válida: content/images/gatos/gato (5).jpg\n",
      "Imagen válida: content/images/gatos/gato (25).jpg\n",
      "Imagen válida: content/images/gatos/gato (3).jpg\n",
      "Imagen válida: content/images/gatos/gato (14).jpg\n",
      "Imagen válida: content/images/gatos/gato (39).jpg\n",
      "Imagen válida: content/images/gatos/gato (6).jpg\n",
      "Imagen válida: content/images/gatos/gato (10).jpg\n",
      "Imagen válida: content/images/gatos/gato (24).jpg\n",
      "Imagen válida: content/images/gatos/gato (36).jpg\n",
      "Imagen válida: content/images/gatos/gato (13).jpg\n",
      "Imagen válida: content/images/gatos/gato (20).jpg\n",
      "Imagen válida: content/images/gatos/gato (35).jpg\n",
      "Imagen válida: content/images/gatos/gato (32).jpg\n",
      "Imagen válida: content/images/gatos/gato (38).jpg\n",
      "Imagen válida: content/images/gatos/gato (12).jpg\n",
      "Imagen válida: content/images/gatos/gato (9).jpg\n",
      "Imagen válida: content/images/gatos/gato (11).jpg\n",
      "Imagen válida: content/images/gatos/gato (30).jpg\n",
      "Imagen válida: content/images/gatos/gato (21).jpg\n",
      "Imagen válida: content/images/gatos/gato (19).jpg\n",
      "Imagen válida: content/images/gatos/gato (17).jpg\n",
      "Imagen válida: content/images/gatos/gato (28).jpg\n",
      "Imagen válida: content/images/gatos/gato (1).jpg\n"
     ]
    }
   ],
   "source": [
    "import os\n",
    "from PIL import Image\n",
    "\n",
    "image_paths = glob.glob('content/images/**/*.jpg', recursive=True)\n",
    "\n",
    "for img_path in image_paths:\n",
    "    try:\n",
    "        img = Image.open(img_path)\n",
    "        img.verify()  # Verifica si la imagen es válida\n",
    "        print(f\"Imagen válida: {img_path}\")\n",
    "    except Exception as e:\n",
    "        print(f\"Imagen no válida: {img_path}, Error: {e}\")\n"
   ]
  },
  {
   "cell_type": "code",
   "execution_count": 23,
   "metadata": {
    "colab": {
     "base_uri": "https://localhost:8080/"
    },
    "id": "Yb5dJStAluP-",
    "outputId": "f0046f38-a019-4622-8ab9-71889b81a35b"
   },
   "outputs": [
    {
     "name": "stdout",
     "output_type": "stream",
     "text": [
      "Cargando modelo...\n",
      "final text_encoder_type: bert-base-uncased\n",
      "Modelo cargado correctamente.\n",
      "Buscando imágenes...\n",
      "Procesando imagen: content/images/perros/perro (40).jpg\n",
      "Error al procesar content/images/perros/perro (40).jpg: not supported\n",
      "Procesando imagen: content/images/perros/perro (18).jpg\n",
      "Error al procesar content/images/perros/perro (18).jpg: not supported\n",
      "Procesando imagen: content/images/perros/perro (4).jpg\n",
      "Error al procesar content/images/perros/perro (4).jpg: not supported\n",
      "Procesando imagen: content/images/perros/perro (35).jpg\n",
      "Error al procesar content/images/perros/perro (35).jpg: not supported\n",
      "Procesando imagen: content/images/perros/perro (3).jpg\n",
      "Error al procesar content/images/perros/perro (3).jpg: not supported\n",
      "Procesando imagen: content/images/perros/perro (48).jpg\n",
      "Error al procesar content/images/perros/perro (48).jpg: not supported\n",
      "Procesando imagen: content/images/perros/perro (49).jpg\n",
      "Error al procesar content/images/perros/perro (49).jpg: not supported\n",
      "Procesando imagen: content/images/perros/perro (41).jpg\n",
      "Error al procesar content/images/perros/perro (41).jpg: not supported\n",
      "Procesando imagen: content/images/perros/perro (53).jpg\n",
      "Error al procesar content/images/perros/perro (53).jpg: not supported\n",
      "Procesando imagen: content/images/perros/perro (19).jpg\n",
      "Error al procesar content/images/perros/perro (19).jpg: not supported\n",
      "Procesando imagen: content/images/perros/perro (15).jpg\n",
      "Error al procesar content/images/perros/perro (15).jpg: not supported\n",
      "Procesando imagen: content/images/perros/perro (60).jpg\n",
      "Error al procesar content/images/perros/perro (60).jpg: not supported\n",
      "Procesando imagen: content/images/perros/perro (9).jpg\n",
      "Error al procesar content/images/perros/perro (9).jpg: not supported\n",
      "Procesando imagen: content/images/perros/perro (10).jpg\n",
      "Error al procesar content/images/perros/perro (10).jpg: not supported\n",
      "Procesando imagen: content/images/perros/perro (7).jpg\n",
      "Error al procesar content/images/perros/perro (7).jpg: not supported\n",
      "Procesando imagen: content/images/perros/perro (11).jpg\n",
      "Error al procesar content/images/perros/perro (11).jpg: not supported\n",
      "Procesando imagen: content/images/perros/perro (61).jpg\n",
      "Error al procesar content/images/perros/perro (61).jpg: not supported\n",
      "Procesando imagen: content/images/perros/perro (5).jpg\n",
      "Error al procesar content/images/perros/perro (5).jpg: not supported\n",
      "Procesando imagen: content/images/perros/perro (31).jpg\n",
      "Error al procesar content/images/perros/perro (31).jpg: not supported\n",
      "Procesando imagen: content/images/perros/perro (26).jpg\n",
      "Error al procesar content/images/perros/perro (26).jpg: not supported\n",
      "Procesando imagen: content/images/perros/perro (59).jpg\n",
      "Error al procesar content/images/perros/perro (59).jpg: not supported\n",
      "Procesando imagen: content/images/perros/perro (54).jpg\n",
      "Error al procesar content/images/perros/perro (54).jpg: not supported\n",
      "Procesando imagen: content/images/perros/perro (43).jpg\n",
      "Error al procesar content/images/perros/perro (43).jpg: not supported\n",
      "Procesando imagen: content/images/perros/perro (52).jpg\n",
      "Error al procesar content/images/perros/perro (52).jpg: not supported\n",
      "Procesando imagen: content/images/perros/perro (36).jpg\n",
      "Error al procesar content/images/perros/perro (36).jpg: not supported\n",
      "Procesando imagen: content/images/perros/perro (56).jpg\n",
      "Error al procesar content/images/perros/perro (56).jpg: not supported\n",
      "Procesando imagen: content/images/perros/perro (20).jpg\n",
      "Error al procesar content/images/perros/perro (20).jpg: not supported\n",
      "Procesando imagen: content/images/perros/perro (8).jpg\n",
      "Error al procesar content/images/perros/perro (8).jpg: not supported\n",
      "Procesando imagen: content/images/perros/perro (21).jpg\n",
      "Error al procesar content/images/perros/perro (21).jpg: not supported\n",
      "Procesando imagen: content/images/perros/perro (55).jpg\n",
      "Error al procesar content/images/perros/perro (55).jpg: not supported\n",
      "Procesando imagen: content/images/perros/perro (1).jpg\n",
      "Error al procesar content/images/perros/perro (1).jpg: not supported\n",
      "Procesando imagen: content/images/perros/perro (51).jpg\n",
      "Error al procesar content/images/perros/perro (51).jpg: not supported\n",
      "Procesando imagen: content/images/perros/perro (29).jpg\n",
      "Error al procesar content/images/perros/perro (29).jpg: not supported\n",
      "Procesando imagen: content/images/perros/perro (14).jpg\n",
      "Error al procesar content/images/perros/perro (14).jpg: not supported\n",
      "Procesando imagen: content/images/perros/perro (46).jpg\n",
      "Error al procesar content/images/perros/perro (46).jpg: not supported\n",
      "Procesando imagen: content/images/perros/perro (47).jpg\n",
      "Error al procesar content/images/perros/perro (47).jpg: not supported\n",
      "Procesando imagen: content/images/perros/perro (44).jpg\n",
      "Error al procesar content/images/perros/perro (44).jpg: not supported\n",
      "Procesando imagen: content/images/perros/perro (45).jpg\n",
      "Error al procesar content/images/perros/perro (45).jpg: not supported\n",
      "Procesando imagen: content/images/perros/perro (33).jpg\n",
      "Error al procesar content/images/perros/perro (33).jpg: not supported\n",
      "Procesando imagen: content/images/perros/perro (6).jpg\n",
      "Error al procesar content/images/perros/perro (6).jpg: not supported\n",
      "Procesando imagen: content/images/perros/perro (16).jpg\n",
      "Error al procesar content/images/perros/perro (16).jpg: not supported\n",
      "Procesando imagen: content/images/perros/perro (22).jpg\n",
      "Error al procesar content/images/perros/perro (22).jpg: not supported\n",
      "Procesando imagen: content/images/perros/perro (38).jpg\n",
      "Error al procesar content/images/perros/perro (38).jpg: not supported\n",
      "Procesando imagen: content/images/perros/perro (17).jpg\n",
      "Error al procesar content/images/perros/perro (17).jpg: not supported\n",
      "Procesando imagen: content/images/perros/perro (12).jpg\n",
      "Error al procesar content/images/perros/perro (12).jpg: not supported\n",
      "Procesando imagen: content/images/perros/perro (24).jpg\n",
      "Error al procesar content/images/perros/perro (24).jpg: not supported\n",
      "Procesando imagen: content/images/perros/perro (25).jpg\n",
      "Error al procesar content/images/perros/perro (25).jpg: not supported\n",
      "Procesando imagen: content/images/perros/perro (32).jpg\n",
      "Error al procesar content/images/perros/perro (32).jpg: not supported\n",
      "Procesando imagen: content/images/perros/perro (58).jpg\n",
      "Error al procesar content/images/perros/perro (58).jpg: not supported\n",
      "Procesando imagen: content/images/perros/perro (37).jpg\n",
      "Error al procesar content/images/perros/perro (37).jpg: not supported\n",
      "Procesando imagen: content/images/perros/perro (57).jpg\n",
      "Error al procesar content/images/perros/perro (57).jpg: not supported\n",
      "Procesando imagen: content/images/perros/perro (42).jpg\n",
      "Error al procesar content/images/perros/perro (42).jpg: not supported\n",
      "Procesando imagen: content/images/perros/perro (28).jpg\n",
      "Error al procesar content/images/perros/perro (28).jpg: not supported\n",
      "Procesando imagen: content/images/perros/perro (2).jpg\n",
      "Error al procesar content/images/perros/perro (2).jpg: not supported\n",
      "Procesando imagen: content/images/perros/perro (27).jpg\n",
      "Error al procesar content/images/perros/perro (27).jpg: not supported\n",
      "Procesando imagen: content/images/perros/perro (39).jpg\n",
      "Error al procesar content/images/perros/perro (39).jpg: not supported\n",
      "Procesando imagen: content/images/perros/perro (13).jpg\n",
      "Error al procesar content/images/perros/perro (13).jpg: not supported\n",
      "Procesando imagen: content/images/perros/perro (30).jpg\n",
      "Error al procesar content/images/perros/perro (30).jpg: not supported\n",
      "Procesando imagen: content/images/perros/perro (34).jpg\n",
      "Error al procesar content/images/perros/perro (34).jpg: not supported\n",
      "Procesando imagen: content/images/perros/perro (23).jpg\n",
      "Error al procesar content/images/perros/perro (23).jpg: not supported\n",
      "Procesando imagen: content/images/perros/perro (50).jpg\n",
      "Error al procesar content/images/perros/perro (50).jpg: not supported\n",
      "Procesando imagen: content/images/gatos/gato (15).jpg\n",
      "Error al procesar content/images/gatos/gato (15).jpg: not supported\n",
      "Procesando imagen: content/images/gatos/gato (16).jpg\n",
      "Error al procesar content/images/gatos/gato (16).jpg: not supported\n",
      "Procesando imagen: content/images/gatos/gato (29).jpg\n",
      "Error al procesar content/images/gatos/gato (29).jpg: not supported\n",
      "Procesando imagen: content/images/gatos/gato (33).jpg\n",
      "Error al procesar content/images/gatos/gato (33).jpg: not supported\n",
      "Procesando imagen: content/images/gatos/gato (23).jpg\n",
      "Error al procesar content/images/gatos/gato (23).jpg: not supported\n",
      "Procesando imagen: content/images/gatos/gato (26).jpg\n",
      "Error al procesar content/images/gatos/gato (26).jpg: not supported\n",
      "Procesando imagen: content/images/gatos/gato (4).jpg\n",
      "Error al procesar content/images/gatos/gato (4).jpg: not supported\n",
      "Procesando imagen: content/images/gatos/gato (7).jpg\n",
      "Error al procesar content/images/gatos/gato (7).jpg: not supported\n",
      "Procesando imagen: content/images/gatos/gato (18).jpg\n",
      "Error al procesar content/images/gatos/gato (18).jpg: not supported\n",
      "Procesando imagen: content/images/gatos/gato (8).jpg\n",
      "Error al procesar content/images/gatos/gato (8).jpg: not supported\n",
      "Procesando imagen: content/images/gatos/gato (27).jpg\n",
      "Error al procesar content/images/gatos/gato (27).jpg: not supported\n",
      "Procesando imagen: content/images/gatos/gato (2).jpg\n",
      "Error al procesar content/images/gatos/gato (2).jpg: not supported\n",
      "Procesando imagen: content/images/gatos/gato (34).jpg\n",
      "Error al procesar content/images/gatos/gato (34).jpg: not supported\n",
      "Procesando imagen: content/images/gatos/gato (22).jpg\n",
      "Error al procesar content/images/gatos/gato (22).jpg: not supported\n",
      "Procesando imagen: content/images/gatos/gato (37).jpg\n",
      "Error al procesar content/images/gatos/gato (37).jpg: not supported\n",
      "Procesando imagen: content/images/gatos/gato (31).jpg\n",
      "Error al procesar content/images/gatos/gato (31).jpg: not supported\n",
      "Procesando imagen: content/images/gatos/gato (5).jpg\n",
      "Error al procesar content/images/gatos/gato (5).jpg: not supported\n",
      "Procesando imagen: content/images/gatos/gato (25).jpg\n",
      "Error al procesar content/images/gatos/gato (25).jpg: not supported\n",
      "Procesando imagen: content/images/gatos/gato (3).jpg\n",
      "Error al procesar content/images/gatos/gato (3).jpg: not supported\n",
      "Procesando imagen: content/images/gatos/gato (14).jpg\n",
      "Error al procesar content/images/gatos/gato (14).jpg: not supported\n",
      "Procesando imagen: content/images/gatos/gato (39).jpg\n",
      "Error al procesar content/images/gatos/gato (39).jpg: not supported\n",
      "Procesando imagen: content/images/gatos/gato (6).jpg\n",
      "Error al procesar content/images/gatos/gato (6).jpg: not supported\n",
      "Procesando imagen: content/images/gatos/gato (10).jpg\n",
      "Error al procesar content/images/gatos/gato (10).jpg: not supported\n",
      "Procesando imagen: content/images/gatos/gato (24).jpg\n",
      "Error al procesar content/images/gatos/gato (24).jpg: not supported\n",
      "Procesando imagen: content/images/gatos/gato (36).jpg\n",
      "Error al procesar content/images/gatos/gato (36).jpg: not supported\n",
      "Procesando imagen: content/images/gatos/gato (13).jpg\n",
      "Error al procesar content/images/gatos/gato (13).jpg: not supported\n",
      "Procesando imagen: content/images/gatos/gato (20).jpg\n",
      "Error al procesar content/images/gatos/gato (20).jpg: not supported\n",
      "Procesando imagen: content/images/gatos/gato (35).jpg\n",
      "Error al procesar content/images/gatos/gato (35).jpg: not supported\n",
      "Procesando imagen: content/images/gatos/gato (32).jpg\n",
      "Error al procesar content/images/gatos/gato (32).jpg: not supported\n",
      "Procesando imagen: content/images/gatos/gato (38).jpg\n",
      "Error al procesar content/images/gatos/gato (38).jpg: not supported\n",
      "Procesando imagen: content/images/gatos/gato (12).jpg\n",
      "Error al procesar content/images/gatos/gato (12).jpg: not supported\n",
      "Procesando imagen: content/images/gatos/gato (9).jpg\n",
      "Error al procesar content/images/gatos/gato (9).jpg: not supported\n",
      "Procesando imagen: content/images/gatos/gato (11).jpg\n",
      "Error al procesar content/images/gatos/gato (11).jpg: not supported\n",
      "Procesando imagen: content/images/gatos/gato (30).jpg\n",
      "Error al procesar content/images/gatos/gato (30).jpg: not supported\n",
      "Procesando imagen: content/images/gatos/gato (21).jpg\n",
      "Error al procesar content/images/gatos/gato (21).jpg: not supported\n",
      "Procesando imagen: content/images/gatos/gato (19).jpg\n",
      "Error al procesar content/images/gatos/gato (19).jpg: not supported\n",
      "Procesando imagen: content/images/gatos/gato (17).jpg\n",
      "Error al procesar content/images/gatos/gato (17).jpg: not supported\n",
      "Procesando imagen: content/images/gatos/gato (28).jpg\n",
      "Error al procesar content/images/gatos/gato (28).jpg: not supported\n",
      "Procesando imagen: content/images/gatos/gato (1).jpg\n",
      "Error al procesar content/images/gatos/gato (1).jpg: not supported\n"
     ]
    }
   ],
   "source": [
    "import os\n",
    "import glob\n",
    "from PIL import Image\n",
    "import torch\n",
    "from torchvision import transforms\n",
    "from groundingdino.util.inference import load_model, predict\n",
    "\n",
    "# Configuración\n",
    "config_path = \"/content/GroundingDINO/groundingdino/config/GroundingDINO_SwinT_OGC.py\"\n",
    "checkpoint_path = \"/content/weights/groundingdino_swint_ogc.pth\"\n",
    "\n",
    "# Forzar el uso de CPU\n",
    "device = torch.device(\"cpu\")\n",
    "\n",
    "print(\"Cargando modelo...\")\n",
    "model = load_model(config_path, checkpoint_path)\n",
    "model.to(device)  # Mover el modelo a la CPU\n",
    "print(\"Modelo cargado correctamente.\")\n",
    "\n",
    "# Transformación para preprocesar las imágenes\n",
    "transform = transforms.Compose([\n",
    "    transforms.Resize((128, 128)),  # Cambia el tamaño según sea necesario\n",
    "    transforms.ToTensor(),\n",
    "    transforms.Normalize(mean=[0.485, 0.456, 0.406], std=[0.229, 0.224, 0.225])\n",
    "])\n",
    "\n",
    "# Función para generar etiquetas\n",
    "def generate_yolo_labels(image_path, text_prompt):\n",
    "    print(f\"Procesando imagen: {image_path}\")\n",
    "    output_path = image_path.replace('images', 'detection').replace('.jpg', '.txt')\n",
    "    os.makedirs(os.path.dirname(output_path), exist_ok=True)\n",
    "\n",
    "    try:\n",
    "        # Verificar si la imagen es válida\n",
    "        image = Image.open(image_path).convert(\"RGB\")\n",
    "\n",
    "        # Preprocesar la imagen\n",
    "        image_tensor = transform(image).unsqueeze(0).to(device)  # Mover a la CPU\n",
    "\n",
    "        # Establecer los umbrales\n",
    "        box_threshold = 0.3\n",
    "        text_threshold = 0.25\n",
    "\n",
    "        # Llamar a predict\n",
    "        results = predict(\n",
    "            model=model,\n",
    "            image=image_tensor,\n",
    "            caption=text_prompt,\n",
    "            box_threshold=box_threshold,\n",
    "            text_threshold=text_threshold\n",
    "        )\n",
    "\n",
    "        # Extraer cajas, puntuaciones y etiquetas\n",
    "        boxes, logits, phrases = results['boxes'], results['scores'], results['labels']\n",
    "\n",
    "        # Guardar las etiquetas en formato YOLO\n",
    "        with open(output_path, 'w') as f:\n",
    "            for box, phrase, score in zip(boxes, phrases, logits):\n",
    "                x_center = (box[0] + box[2]) / 2\n",
    "                y_center = (box[1] + box[3]) / 2\n",
    "                width = box[2] - box[0]\n",
    "                height = box[3] - box[1]\n",
    "                f.write(f\"{phrase} {x_center} {y_center} {width} {height}\\n\")\n",
    "        print(f\"Archivo guardado: {output_path}\")\n",
    "    except Exception as e:\n",
    "        print(f\"Error al procesar {image_path}: {e}\")\n",
    "\n",
    "\n",
    "# Procesar imágenes\n",
    "print(\"Buscando imágenes...\")\n",
    "image_paths = glob.glob('content/images/**/*.jpg', recursive=True)\n",
    "if not image_paths:\n",
    "    print(\"No se encontraron imágenes en 'content/images/'.\")\n",
    "else:\n",
    "    for img_path in image_paths:\n",
    "        generate_yolo_labels(img_path, \"un perro\")\n"
   ]
  }
 ],
 "metadata": {
  "accelerator": "GPU",
  "colab": {
   "gpuType": "T4",
   "provenance": []
  },
  "kernelspec": {
   "display_name": "Python 3",
   "name": "python3"
  },
  "language_info": {
   "name": "python"
  }
 },
 "nbformat": 4,
 "nbformat_minor": 0
}
